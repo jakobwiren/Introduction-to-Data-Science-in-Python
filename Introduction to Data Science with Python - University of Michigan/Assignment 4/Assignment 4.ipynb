{
 "cells": [
  {
   "cell_type": "code",
   "execution_count": null,
   "metadata": {},
   "outputs": [],
   "source": [
    "import pandas as pd\n",
    "import numpy as np\n",
    "from scipy.stats import ttest_ind"
   ]
  },
  {
   "cell_type": "markdown",
   "metadata": {},
   "source": [
    "# Assignment 4 - Hypothesis Testing\n",
    "This assignment requires more individual learning than previous assignments - you are encouraged to check out the [pandas documentation](http://pandas.pydata.org/pandas-docs/stable/) to find functions or methods you might not have used yet, or ask questions on [Stack Overflow](http://stackoverflow.com/) and tag them as pandas and python related. And of course, the discussion forums are open for interaction with your peers and the course staff.\n",
    "\n",
    "Definitions:\n",
    "* A _quarter_ is a specific three month period, Q1 is January through March, Q2 is April through June, Q3 is July through September, Q4 is October through December.\n",
    "* A _recession_ is defined as starting with two consecutive quarters of GDP decline, and ending with two consecutive quarters of GDP growth.\n",
    "* A _recession bottom_ is the quarter within a recession which had the lowest GDP.\n",
    "* A _university town_ is a city which has a high percentage of university students compared to the total population of the city.\n",
    "\n",
    "**Hypothesis**: University towns have their mean housing prices less effected by recessions. Run a t-test to compare the ratio of the mean price of houses in university towns the quarter before the recession starts compared to the recession bottom. (`price_ratio=quarter_before_recession/recession_bottom`)\n",
    "\n",
    "The following data files are available for this assignment:\n",
    "* From the [Zillow research data site](http://www.zillow.com/research/data/) there is housing data for the United States. In particular the datafile for [all homes at a city level](http://files.zillowstatic.com/research/public/City/City_Zhvi_AllHomes.csv), ```City_Zhvi_AllHomes.csv```, has median home sale prices at a fine grained level.\n",
    "* From the Wikipedia page on college towns is a list of [university towns in the United States](https://en.wikipedia.org/wiki/List_of_college_towns#College_towns_in_the_United_States) which has been copy and pasted into the file ```university_towns.txt```.\n",
    "* From Bureau of Economic Analysis, US Department of Commerce, the [GDP over time](http://www.bea.gov/national/index.htm#gdp) of the United States in current dollars (use the chained value in 2009 dollars), in quarterly intervals, in the file ```gdplev.xls```. For this assignment, only look at GDP data from the first quarter of 2000 onward.\n",
    "\n",
    "Each function in this assignment below is worth 10%, with the exception of ```run_ttest()```, which is worth 50%."
   ]
  },
  {
   "cell_type": "code",
   "execution_count": null,
   "metadata": {},
   "outputs": [],
   "source": [
    "# Use this dictionary to map state names to two letter acronyms\n",
    "states = {'OH': 'Ohio', 'KY': 'Kentucky', 'AS': 'American Samoa', 'NV': 'Nevada', 'WY': 'Wyoming', 'NA': 'National', 'AL': 'Alabama', 'MD': 'Maryland', 'AK': 'Alaska', 'UT': 'Utah', 'OR': 'Oregon', 'MT': 'Montana', 'IL': 'Illinois', 'TN': 'Tennessee', 'DC': 'District of Columbia', 'VT': 'Vermont', 'ID': 'Idaho', 'AR': 'Arkansas', 'ME': 'Maine', 'WA': 'Washington', 'HI': 'Hawaii', 'WI': 'Wisconsin', 'MI': 'Michigan', 'IN': 'Indiana', 'NJ': 'New Jersey', 'AZ': 'Arizona', 'GU': 'Guam', 'MS': 'Mississippi', 'PR': 'Puerto Rico', 'NC': 'North Carolina', 'TX': 'Texas', 'SD': 'South Dakota', 'MP': 'Northern Mariana Islands', 'IA': 'Iowa', 'MO': 'Missouri', 'CT': 'Connecticut', 'WV': 'West Virginia', 'SC': 'South Carolina', 'LA': 'Louisiana', 'KS': 'Kansas', 'NY': 'New York', 'NE': 'Nebraska', 'OK': 'Oklahoma', 'FL': 'Florida', 'CA': 'California', 'CO': 'Colorado', 'PA': 'Pennsylvania', 'DE': 'Delaware', 'NM': 'New Mexico', 'RI': 'Rhode Island', 'MN': 'Minnesota', 'VI': 'Virgin Islands', 'NH': 'New Hampshire', 'MA': 'Massachusetts', 'GA': 'Georgia', 'ND': 'North Dakota', 'VA': 'Virginia'}"
   ]
  },
  {
   "cell_type": "code",
   "execution_count": null,
   "metadata": {},
   "outputs": [],
   "source": [
    "def f1(row, data, param):\n",
    "    if param['state'] == '' or row[0].find('edit') > 0:\n",
    "        param['state'] = row[0].split('[')[0]\n",
    "    else:\n",
    "        town = row[0].split('(')[0].strip()\n",
    "        data.append([param['state'], town])\n",
    "\n",
    "def get_list_of_university_towns():\n",
    "    '''Returns a DataFrame of towns and the states they are in from the \n",
    "    university_towns.txt list. The format of the DataFrame should be:\n",
    "    DataFrame( [ [\"Michigan\", \"Ann Arbor\"], [\"Michigan\", \"Yipsilanti\"] ], \n",
    "    columns=[\"State\", \"RegionName\"]  )\n",
    "    \n",
    "    The following cleaning needs to be done:\n",
    "\n",
    "    1. For \"State\", removing characters from \"[\" to the end.\n",
    "    2. For \"RegionName\", when applicable, removing every character from \" (\" to the end.\n",
    "    3. Depending on how you read the data, you may need to remove newline character '\\n'. '''\n",
    "    \n",
    "    \n",
    "    university_towns = pd.read_csv('university_towns.txt', header = None, delimiter = '\\n')\n",
    "    param = {'state': '' }\n",
    "    data = []\n",
    "    university_towns.apply(lambda row: f1(row, data, param), axis=1)\n",
    "    return pd.DataFrame(data, columns=[\"State\", \"RegionName\"])\n",
    "get_list_of_university_towns()"
   ]
  },
  {
   "cell_type": "code",
   "execution_count": null,
   "metadata": {},
   "outputs": [],
   "source": [
    "def get_GDP():\n",
    "    GDP_raw = pd.read_excel('gdplev.xls', skiprows = 7, names = ['Year', 'GDP_cur_yearly','GDP_chained_yearly', \n",
    "                                                                  'Unnamed', 'Quarter', 'GDP_curr_quarterly',\n",
    "                                                                   'GDP_chained_quarterly', 'unnamed'])\n",
    "    GDP_yearly = GDP_raw[['Year', 'GDP_cur_yearly', 'GDP_chained_yearly']].dropna()\n",
    "    GDP_quarterly = GDP_raw[['Quarter', 'GDP_curr_quarterly','GDP_chained_quarterly']]\n",
    "    \n",
    "    \n",
    "    return GDP_yearly,GDP_quarterly\n",
    "get_GDP()"
   ]
  },
  {
   "cell_type": "code",
   "execution_count": null,
   "metadata": {},
   "outputs": [],
   "source": [
    "def get_housing_data():\n",
    "    housing_data = pd.read_csv('City_Zhvi_AllHomes.csv')\n",
    "    return housing_data.dropna()\n",
    "get_housing_data()"
   ]
  },
  {
   "cell_type": "code",
   "execution_count": null,
   "metadata": {},
   "outputs": [],
   "source": [
    "def get_recession_start():\n",
    "    '''Returns the year and quarter of the recession start time as a \n",
    "    string value in a format such as 2005q3'''\n",
    "    GDP_yearly, GDP_quarterly = get_GDP()\n",
    "    \n",
    "    for index in range(0,(GDP_quarterly.shape[0] - 3)):\n",
    "        if (GDP_quarterly['GDP_curr_quarterly'].iloc[index] > GDP_quarterly['GDP_curr_quarterly'].iloc[index + 1] and\n",
    "                       GDP_quarterly['GDP_curr_quarterly'].iloc[index + 2] > GDP_quarterly['GDP_curr_quarterly'].iloc[index + 1] and\n",
    "                       GDP_quarterly['GDP_curr_quarterly'].iloc[index + 3] > GDP_quarterly['GDP_curr_quarterly'].iloc[index + 2]):\n",
    "           \n",
    "            key = GDP_quarterly['Quarter'].iloc[index]\n",
    "    return key\n",
    "get_recession_start()"
   ]
  },
  {
   "cell_type": "code",
   "execution_count": null,
   "metadata": {},
   "outputs": [],
   "source": [
    "def get_recession_end():\n",
    "    '''Returns the year and quarter of the recession end time as a \n",
    "    string value in a format such as 2005q3'''\n",
    "    GDP_yearly, GDP_quarterly = get_GDP()\n",
    "    \n",
    "    for index in range(0,(GDP_quarterly.shape[0] - 3)):\n",
    "        if (GDP_quarterly['GDP_curr_quarterly'].iloc[index] > GDP_quarterly['GDP_curr_quarterly'].iloc[index + 1] and\n",
    "                       GDP_quarterly['GDP_curr_quarterly'].iloc[index + 2] > GDP_quarterly['GDP_curr_quarterly'].iloc[index + 1] and\n",
    "                       GDP_quarterly['GDP_curr_quarterly'].iloc[index + 3] > GDP_quarterly['GDP_curr_quarterly'].iloc[index + 2]):\n",
    "           \n",
    "            key = GDP_quarterly['Quarter'].iloc[index + 3]\n",
    "    return key\n",
    "get_recession_end()"
   ]
  },
  {
   "cell_type": "code",
   "execution_count": null,
   "metadata": {},
   "outputs": [],
   "source": [
    "def get_recession_bottom():\n",
    "    '''Returns the year and quarter of the recession bottom time as a \n",
    "    string value in a format such as 2005q3''' \n",
    "    GDP_yearly, GDP_quarterly = get_GDP()\n",
    "    \n",
    "    for index in range(0,(GDP_quarterly.shape[0] - 3)):\n",
    "        if (GDP_quarterly['GDP_curr_quarterly'].iloc[index] > GDP_quarterly['GDP_curr_quarterly'].iloc[index + 1] and\n",
    "                       GDP_quarterly['GDP_curr_quarterly'].iloc[index + 2] > GDP_quarterly['GDP_curr_quarterly'].iloc[index + 1] and\n",
    "                       GDP_quarterly['GDP_curr_quarterly'].iloc[index + 3] > GDP_quarterly['GDP_curr_quarterly'].iloc[index + 2]):\n",
    "           \n",
    "            key = GDP_quarterly['Quarter'].iloc[index + 1]\n",
    "    return key\n",
    "get_recession_bottom()"
   ]
  },
  {
   "cell_type": "code",
   "execution_count": null,
   "metadata": {},
   "outputs": [],
   "source": [
    "def quarters():\n",
    "    #generating the new coloumns names \n",
    "    years = list(range(2000,2017))\n",
    "    quarters = ['q1','q2','q3','q4']\n",
    "    quarter_list = list()\n",
    "    for i in years:\n",
    "        for x in quarters:\n",
    "            quarter_list.append((str(i) + x))\n",
    "    return quarter_list\n",
    "\n",
    "def convert_housing_data_to_quarters():\n",
    "    '''Converts the housing data to quarters and returns it as mean \n",
    "    values in a dataframe. This dataframe should be a dataframe with\n",
    "    columns for 2000q1 through 2016q3, and should have a multi-index\n",
    "    in the shape of [\"State\",\"RegionName\"].\n",
    "    \n",
    "    Note: Quarters are defined in the assignment description, they are\n",
    "    not arbitrary three month periods.\n",
    "    \n",
    "    The resulting dataframe should have 67 columns, and 10,730 rows.\n",
    "    '''\n",
    "    \n",
    "    df_house = get_housing_data()\n",
    "    \n",
    "    qs = [list(df_house.columns)[x:x+3] for x in range(0, len(list(df_house.columns)), 3)]\n",
    "        \n",
    "    column_names = quarters()\n",
    "    for col,q in zip(column_names,qs):\n",
    "        df_house[col] = df_house[q].mean(axis=1)\n",
    "        \n",
    "    df_house = df_house[column_names]\n",
    " \n",
    "    return df_house\n",
    "convert_housing_data_to_quarters()"
   ]
  },
  {
   "cell_type": "code",
   "execution_count": null,
   "metadata": {},
   "outputs": [],
   "source": [
    "def run_ttest():\n",
    "    '''First creates new data showing the decline or growth of housing prices\n",
    "    between the recession start and the recession bottom. Then runs a ttest\n",
    "    comparing the university town values to the non-university towns values, \n",
    "    return whether the alternative hypothesis (that the two groups are the same)\n",
    "    is true or not as well as the p-value of the confidence. \n",
    "    \n",
    "    Return the tuple (different, p, better) where different=True if the t-test is\n",
    "    True at a p<0.01 (we reject the null hypothesis), or different=False if \n",
    "    otherwise (we cannot reject the null hypothesis). The variable p should\n",
    "    be equal to the exact p value returned from scipy.stats.ttest_ind(). The\n",
    "    value for better should be either \"university town\" or \"non-university town\"\n",
    "    depending on which has a lower mean price ratio (which is equivilent to a\n",
    "    reduced market loss).'''\n",
    "    \n",
    "    return \"ANSWER\""
   ]
  }
 ],
 "metadata": {
  "kernelspec": {
   "display_name": "Python 3",
   "language": "python",
   "name": "python3"
  },
  "language_info": {
   "codemirror_mode": {
    "name": "ipython",
    "version": 3
   },
   "file_extension": ".py",
   "mimetype": "text/x-python",
   "name": "python",
   "nbconvert_exporter": "python",
   "pygments_lexer": "ipython3",
   "version": "3.6.4"
  }
 },
 "nbformat": 4,
 "nbformat_minor": 2
}
